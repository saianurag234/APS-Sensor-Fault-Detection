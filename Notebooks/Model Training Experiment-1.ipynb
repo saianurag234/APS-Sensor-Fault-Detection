{
 "cells": [
  {
   "cell_type": "markdown",
   "id": "f8008660-f53b-4356-af9d-60aedb36f657",
   "metadata": {},
   "source": [
    "## Experiment-1: Imputing null values using KNN imputer"
   ]
  },
  {
   "cell_type": "code",
   "execution_count": 16,
   "id": "98a8a3bc-9536-4941-9aad-599aacc5e7f7",
   "metadata": {},
   "outputs": [
    {
     "name": "stderr",
     "output_type": "stream",
     "text": [
      "Intel(R) Extension for Scikit-learn* enabled (https://github.com/intel/scikit-learn-intelex)\n"
     ]
    }
   ],
   "source": [
    "from sklearnex import patch_sklearn\n",
    "patch_sklearn()\n",
    "from sklearn.impute import KNNImputer\n",
    "\n",
    "imputer = KNNImputer(n_neighbors=3)\n",
    "\n",
    "X_impute = imputer.fit_transform(X)"
   ]
  },
  {
   "cell_type": "code",
   "execution_count": 17,
   "id": "96551c1c-1bd5-4c6e-ad59-5cd4c5441d31",
   "metadata": {},
   "outputs": [
    {
     "name": "stderr",
     "output_type": "stream",
     "text": [
      "Intel(R) Extension for Scikit-learn* enabled (https://github.com/intel/scikit-learn-intelex)\n"
     ]
    }
   ],
   "source": [
    "from sklearnex import patch_sklearn\n",
    "patch_sklearn()\n",
    "from sklearn.preprocessing import RobustScaler\n",
    "\n",
    "RobustScaler = RobustScaler()\n",
    "\n",
    "X_scale = RobustScaler.fit_transform(X_impute)"
   ]
  },
  {
   "cell_type": "markdown",
   "id": "dad958ce-50e5-4ebf-88ea-cecd86750da1",
   "metadata": {},
   "source": [
    "### Handling the Imbalanced Data"
   ]
  },
  {
   "cell_type": "code",
   "execution_count": 18,
   "id": "e782bd4d-d6f2-43ed-adf2-83d635a04b8c",
   "metadata": {},
   "outputs": [],
   "source": [
    "from imblearn.combine import SMOTETomek"
   ]
  },
  {
   "cell_type": "code",
   "execution_count": 19,
   "id": "e4614bfa-7108-4ed7-84c7-1ae0d8de743a",
   "metadata": {},
   "outputs": [],
   "source": [
    "smt = SMOTETomek(random_state=42,sampling_strategy='minority',n_jobs=-1)\n",
    "\n",
    "X_resample, y_resample = smt.fit_resample(X_scale, y)"
   ]
  },
  {
   "cell_type": "code",
   "execution_count": 20,
   "id": "1b2656ba-cc61-4587-949d-d00ba17bd531",
   "metadata": {},
   "outputs": [],
   "source": [
    "X_train,X_test,y_train,y_test = train_test_split(X_resample,y_resample,test_size=0.2,random_state=42)"
   ]
  },
  {
   "cell_type": "markdown",
   "id": "ba6cd738-7d28-4262-a11a-078edfb0134f",
   "metadata": {},
   "source": [
    "### Training the data on differnent models"
   ]
  },
  {
   "cell_type": "code",
   "execution_count": 21,
   "id": "bfea89d7-edda-4f50-b443-c332ff00a116",
   "metadata": {},
   "outputs": [
    {
     "name": "stderr",
     "output_type": "stream",
     "text": [
      "Intel(R) Extension for Scikit-learn* enabled (https://github.com/intel/scikit-learn-intelex)\n"
     ]
    }
   ],
   "source": [
    "from sklearnex import patch_sklearn\n",
    "patch_sklearn()\n",
    "\n",
    "from sklearn.linear_model import LogisticRegression\n",
    "from sklearn.tree import DecisionTreeClassifier\n",
    "from sklearn.ensemble import RandomForestClassifier, GradientBoostingClassifier\n",
    "from sklearn.neighbors import KNeighborsClassifier"
   ]
  },
  {
   "cell_type": "code",
   "execution_count": 22,
   "id": "7653c2ad-b898-4565-be98-391786c8d148",
   "metadata": {},
   "outputs": [],
   "source": [
    "from xgboost import XGBClassifier"
   ]
  },
  {
   "cell_type": "code",
   "execution_count": 23,
   "id": "a7dd2fa2-9693-4434-8391-fa5910eca83a",
   "metadata": {},
   "outputs": [],
   "source": [
    "def total_cost(y_true, y_pred):\n",
    "    tn, fp, fn, tp = confusion_matrix(y_true, y_pred).ravel()\n",
    "    cost = 10*fp + 500*fn\n",
    "    return cost"
   ]
  },
  {
   "cell_type": "code",
   "execution_count": 24,
   "id": "11799d44-ec5c-45a9-935c-ac549728b1c9",
   "metadata": {},
   "outputs": [
    {
     "name": "stdout",
     "output_type": "stream",
     "text": [
      "The accuracy score:  56.77736602052451\n",
      "\n",
      " Confusion matrix:\n",
      "[[1445 5578]\n",
      " [ 487 6522]]\n",
      "\n",
      " Classification Report:\n",
      "              precision    recall  f1-score   support\n",
      "\n",
      "           0       0.75      0.21      0.32      7023\n",
      "           1       0.54      0.93      0.68      7009\n",
      "\n",
      "    accuracy                           0.57     14032\n",
      "   macro avg       0.64      0.57      0.50     14032\n",
      "weighted avg       0.64      0.57      0.50     14032\n",
      "\n",
      "\n",
      " Total Cost due to misclassification:  299280\n"
     ]
    }
   ],
   "source": [
    "model_logreg = LogisticRegression()\n",
    "model_logreg.fit(X_train,y_train)\n",
    "y_pred = model_logreg.predict(X_test)\n",
    "accuracy = accuracy_score(y_test,y_pred)\n",
    "confusion_mat = confusion_matrix(y_test, y_pred)\n",
    "classfication_report = classification_report(y_test,y_pred)\n",
    "\n",
    "print(\"The accuracy score: \",accuracy*100)\n",
    "print(\"\\n Confusion matrix:\")\n",
    "print(confusion_mat)\n",
    "print(\"\\n Classification Report:\")\n",
    "print(classfication_report)\n",
    "print(\"\\n Total Cost due to misclassification: \",total_cost(y_test,y_pred))"
   ]
  },
  {
   "cell_type": "code",
   "execution_count": 25,
   "id": "d74b86ea-9f6c-4726-8cae-ea9bced1611b",
   "metadata": {},
   "outputs": [
    {
     "name": "stdout",
     "output_type": "stream",
     "text": [
      "The accuracy score:  97.44156214367162\n",
      "\n",
      " Confusion matrix:\n",
      "[[6738  285]\n",
      " [  74 6935]]\n",
      "\n",
      " Classification Report:\n",
      "              precision    recall  f1-score   support\n",
      "\n",
      "           0       0.99      0.96      0.97      7023\n",
      "           1       0.96      0.99      0.97      7009\n",
      "\n",
      "    accuracy                           0.97     14032\n",
      "   macro avg       0.97      0.97      0.97     14032\n",
      "weighted avg       0.97      0.97      0.97     14032\n",
      "\n",
      "\n",
      " Total Cost due to misclassification:  39850\n"
     ]
    }
   ],
   "source": [
    "model_knn = KNeighborsClassifier()\n",
    "model_knn.fit(X_train,y_train)\n",
    "y_pred = model_knn.predict(X_test)\n",
    "accuracy = accuracy_score(y_test,y_pred)\n",
    "confusion_mat = confusion_matrix(y_test, y_pred)\n",
    "classfication_report = classification_report(y_test,y_pred)\n",
    "\n",
    "print(\"The accuracy score: \",accuracy*100)\n",
    "print(\"\\n Confusion matrix:\")\n",
    "print(confusion_mat)\n",
    "print(\"\\n Classification Report:\")\n",
    "print(classfication_report)\n",
    "print(\"\\n Total Cost due to misclassification: \",total_cost(y_test,y_pred))"
   ]
  },
  {
   "cell_type": "code",
   "execution_count": 26,
   "id": "5019baad-e3a6-49e3-8a7c-e4d2f86c11ab",
   "metadata": {},
   "outputs": [
    {
     "name": "stderr",
     "output_type": "stream",
     "text": [
      "Intel(R) Extension for Scikit-learn* enabled (https://github.com/intel/scikit-learn-intelex)\n"
     ]
    },
    {
     "name": "stdout",
     "output_type": "stream",
     "text": [
      "The accuracy score:  98.4321550741163\n",
      "\n",
      " Confusion matrix:\n",
      "[[6890  133]\n",
      " [  87 6922]]\n",
      "\n",
      " Classification Report:\n",
      "              precision    recall  f1-score   support\n",
      "\n",
      "           0       0.99      0.98      0.98      7023\n",
      "           1       0.98      0.99      0.98      7009\n",
      "\n",
      "    accuracy                           0.98     14032\n",
      "   macro avg       0.98      0.98      0.98     14032\n",
      "weighted avg       0.98      0.98      0.98     14032\n",
      "\n",
      "\n",
      " Total Cost due to misclassification:  44830\n"
     ]
    }
   ],
   "source": [
    "from sklearnex import patch_sklearn\n",
    "patch_sklearn()\n",
    "\n",
    "model_gbc = GradientBoostingClassifier()\n",
    "model_gbc.fit(X_train,y_train)\n",
    "y_pred = model_gbc.predict(X_test)\n",
    "accuracy = accuracy_score(y_test,y_pred)\n",
    "confusion_mat = confusion_matrix(y_test, y_pred)\n",
    "classfication_report = classification_report(y_test,y_pred)\n",
    "\n",
    "print(\"The accuracy score: \",accuracy*100)\n",
    "print(\"\\n Confusion matrix:\")\n",
    "print(confusion_mat)\n",
    "print(\"\\n Classification Report:\")\n",
    "print(classfication_report)\n",
    "print(\"\\n Total Cost due to misclassification: \",total_cost(y_test,y_pred))"
   ]
  },
  {
   "cell_type": "code",
   "execution_count": 27,
   "id": "61122094-438e-4058-aa1c-c933e65ba917",
   "metadata": {},
   "outputs": [
    {
     "name": "stdout",
     "output_type": "stream",
     "text": [
      "The accuracy score:  99.59378563283923\n",
      "\n",
      " Confusion matrix:\n",
      "[[6978   45]\n",
      " [  12 6997]]\n",
      "\n",
      " Classification Report:\n",
      "              precision    recall  f1-score   support\n",
      "\n",
      "           0       1.00      0.99      1.00      7023\n",
      "           1       0.99      1.00      1.00      7009\n",
      "\n",
      "    accuracy                           1.00     14032\n",
      "   macro avg       1.00      1.00      1.00     14032\n",
      "weighted avg       1.00      1.00      1.00     14032\n",
      "\n",
      "\n",
      " Total Cost due to misclassification:  6450\n"
     ]
    }
   ],
   "source": [
    "model_xgboost = XGBClassifier()\n",
    "model_xgboost.fit(X_train,y_train)\n",
    "y_pred = model_xgboost.predict(X_test)\n",
    "accuracy = accuracy_score(y_test,y_pred)\n",
    "confusion_mat = confusion_matrix(y_test, y_pred)\n",
    "classfication_report = classification_report(y_test,y_pred)\n",
    "\n",
    "print(\"The accuracy score: \",accuracy*100)\n",
    "print(\"\\n Confusion matrix:\")\n",
    "print(confusion_mat)\n",
    "print(\"\\n Classification Report:\")\n",
    "print(classfication_report)\n",
    "print(\"\\n Total Cost due to misclassification: \",total_cost(y_test,y_pred))"
   ]
  },
  {
   "cell_type": "code",
   "execution_count": 28,
   "id": "97f28d80-fff7-4532-b31a-6ab5e6eaecb8",
   "metadata": {},
   "outputs": [
    {
     "name": "stderr",
     "output_type": "stream",
     "text": [
      "Intel(R) Extension for Scikit-learn* enabled (https://github.com/intel/scikit-learn-intelex)\n"
     ]
    },
    {
     "name": "stdout",
     "output_type": "stream",
     "text": [
      "The accuracy score:  99.26596351197263\n",
      "\n",
      " Confusion matrix\n",
      "[[6943   80]\n",
      " [  23 6986]]\n",
      "\n",
      " Classification Report\n",
      "              precision    recall  f1-score   support\n",
      "\n",
      "           0       1.00      0.99      0.99      7023\n",
      "           1       0.99      1.00      0.99      7009\n",
      "\n",
      "    accuracy                           0.99     14032\n",
      "   macro avg       0.99      0.99      0.99     14032\n",
      "weighted avg       0.99      0.99      0.99     14032\n",
      "\n",
      "\n",
      " Total Cost due to misclassification:  12300\n"
     ]
    }
   ],
   "source": [
    "from sklearnex import patch_sklearn\n",
    "patch_sklearn()\n",
    "\n",
    "from sklearn.ensemble import RandomForestClassifier\n",
    "\n",
    "model_randomforest = RandomForestClassifier()\n",
    "model_randomforest.fit(X_train,y_train)\n",
    "y_pred = model_randomforest.predict(X_test)\n",
    "\n",
    "accuracy = accuracy_score(y_test,y_pred)\n",
    "confusion_mat = confusion_matrix(y_test, y_pred)\n",
    "classfication_report = classification_report(y_test,y_pred)\n",
    "\n",
    "print(\"The accuracy score: \",accuracy*100)\n",
    "print(\"\\n Confusion matrix\")\n",
    "print(confusion_mat)\n",
    "print(\"\\n Classification Report\")\n",
    "print(classfication_report)\n",
    "print(\"\\n Total Cost due to misclassification: \",total_cost(y_test,y_pred))"
   ]
  }
 ],
 "metadata": {
  "kernelspec": {
   "display_name": "Python 3 (Intel® oneAPI 2023.2)",
   "language": "python",
   "name": "c009-intel_distribution_of_python_3_oneapi-beta05-python"
  },
  "language_info": {
   "codemirror_mode": {
    "name": "ipython",
    "version": 3
   },
   "file_extension": ".py",
   "mimetype": "text/x-python",
   "name": "python",
   "nbconvert_exporter": "python",
   "pygments_lexer": "ipython3",
   "version": "3.9.16"
  }
 },
 "nbformat": 4,
 "nbformat_minor": 5
}

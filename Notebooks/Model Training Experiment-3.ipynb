{
 "cells": [
  {
   "cell_type": "markdown",
   "id": "426bd7be-e57c-490c-ac07-937524199953",
   "metadata": {},
   "source": [
    "### Experiment-3 Simple Imputer with Strategy Mean"
   ]
  },
  {
   "cell_type": "code",
   "execution_count": 38,
   "id": "3ccfd442-348c-473a-bf26-4af4b995aa1c",
   "metadata": {},
   "outputs": [
    {
     "name": "stderr",
     "output_type": "stream",
     "text": [
      "Intel(R) Extension for Scikit-learn* enabled (https://github.com/intel/scikit-learn-intelex)\n"
     ]
    }
   ],
   "source": [
    "from sklearnex import patch_sklearn\n",
    "patch_sklearn()\n",
    "from sklearn.impute import SimpleImputer\n",
    "\n",
    "simple_imputer = SimpleImputer(strategy='mean')\n",
    "\n",
    "X_simple_impute = simple_imputer.fit_transform(X)"
   ]
  },
  {
   "cell_type": "code",
   "execution_count": 39,
   "id": "187b0a11-b32f-41af-8a74-52661cec6f34",
   "metadata": {},
   "outputs": [
    {
     "name": "stderr",
     "output_type": "stream",
     "text": [
      "Intel(R) Extension for Scikit-learn* enabled (https://github.com/intel/scikit-learn-intelex)\n"
     ]
    }
   ],
   "source": [
    "from sklearnex import patch_sklearn\n",
    "patch_sklearn()\n",
    "from sklearn.preprocessing import RobustScaler\n",
    "\n",
    "RobustScaler = RobustScaler()\n",
    "\n",
    "X_scale = RobustScaler.fit_transform(X_simple_impute)"
   ]
  },
  {
   "cell_type": "code",
   "execution_count": 40,
   "id": "0dd986fd-4694-42f7-aac1-103466261656",
   "metadata": {},
   "outputs": [],
   "source": [
    "smt = SMOTETomek(random_state=42,sampling_strategy='minority', n_jobs=-1 )\n",
    "X_resample, y_resample = smt.fit_resample(X_scale, y)"
   ]
  },
  {
   "cell_type": "code",
   "execution_count": 41,
   "id": "fa4a8020-3f32-4e64-8f13-3726f1d05cf1",
   "metadata": {},
   "outputs": [],
   "source": [
    "X_train,X_test,y_train,y_test = train_test_split(X_resample,y_resample,test_size=0.2,random_state=42)"
   ]
  },
  {
   "cell_type": "code",
   "execution_count": 42,
   "id": "ceb3a10f-676c-4124-9a03-e7908e50ee3b",
   "metadata": {},
   "outputs": [
    {
     "name": "stdout",
     "output_type": "stream",
     "text": [
      "The accuracy score:  58.83820384889522\n",
      "\n",
      " Confusion matrix:\n",
      "[[1926 5172]\n",
      " [ 603 6329]]\n",
      "\n",
      " Classification Report:\n",
      "              precision    recall  f1-score   support\n",
      "\n",
      "           0       0.76      0.27      0.40      7098\n",
      "           1       0.55      0.91      0.69      6932\n",
      "\n",
      "    accuracy                           0.59     14030\n",
      "   macro avg       0.66      0.59      0.54     14030\n",
      "weighted avg       0.66      0.59      0.54     14030\n",
      "\n",
      "\n",
      " Total Cost due to misclassification:  353220\n"
     ]
    }
   ],
   "source": [
    "model_logreg = LogisticRegression()\n",
    "model_logreg.fit(X_train,y_train)\n",
    "y_pred = model_logreg.predict(X_test)\n",
    "accuracy = accuracy_score(y_test,y_pred)\n",
    "confusion_mat = confusion_matrix(y_test, y_pred)\n",
    "classfication_report = classification_report(y_test,y_pred)\n",
    "\n",
    "print(\"The accuracy score: \",accuracy*100)\n",
    "print(\"\\n Confusion matrix:\")\n",
    "print(confusion_mat)\n",
    "print(\"\\n Classification Report:\")\n",
    "print(classfication_report)\n",
    "print(\"\\n Total Cost due to misclassification: \",total_cost(y_test,y_pred))"
   ]
  },
  {
   "cell_type": "code",
   "execution_count": 43,
   "id": "78ef2eec-86ab-4450-ac5f-0e6a33dfdf26",
   "metadata": {},
   "outputs": [
    {
     "name": "stdout",
     "output_type": "stream",
     "text": [
      "The accuracy score:  97.42694226657164\n",
      "\n",
      " Confusion matrix:\n",
      "[[6821  277]\n",
      " [  84 6848]]\n",
      "\n",
      " Classification Report:\n",
      "              precision    recall  f1-score   support\n",
      "\n",
      "           0       0.99      0.96      0.97      7098\n",
      "           1       0.96      0.99      0.97      6932\n",
      "\n",
      "    accuracy                           0.97     14030\n",
      "   macro avg       0.97      0.97      0.97     14030\n",
      "weighted avg       0.97      0.97      0.97     14030\n",
      "\n",
      "\n",
      " Total Cost due to misclassification:  44770\n"
     ]
    }
   ],
   "source": [
    "model_knn = KNeighborsClassifier()\n",
    "model_knn.fit(X_train,y_train)\n",
    "y_pred = model_knn.predict(X_test)\n",
    "accuracy = accuracy_score(y_test,y_pred)\n",
    "confusion_mat = confusion_matrix(y_test, y_pred)\n",
    "classfication_report = classification_report(y_test,y_pred)\n",
    "\n",
    "print(\"The accuracy score: \",accuracy*100)\n",
    "print(\"\\n Confusion matrix:\")\n",
    "print(confusion_mat)\n",
    "print(\"\\n Classification Report:\")\n",
    "print(classfication_report)\n",
    "print(\"\\n Total Cost due to misclassification: \",total_cost(y_test,y_pred))"
   ]
  },
  {
   "cell_type": "code",
   "execution_count": 44,
   "id": "585f1fc9-9dd0-4bd8-9bbd-339a223f0d0e",
   "metadata": {},
   "outputs": [
    {
     "name": "stdout",
     "output_type": "stream",
     "text": [
      "The accuracy score:  98.64575908766928\n",
      "\n",
      " Confusion matrix:\n",
      "[[6983  115]\n",
      " [  75 6857]]\n",
      "\n",
      " Classification Report:\n",
      "              precision    recall  f1-score   support\n",
      "\n",
      "           0       0.99      0.98      0.99      7098\n",
      "           1       0.98      0.99      0.99      6932\n",
      "\n",
      "    accuracy                           0.99     14030\n",
      "   macro avg       0.99      0.99      0.99     14030\n",
      "weighted avg       0.99      0.99      0.99     14030\n",
      "\n",
      "\n",
      " Total Cost due to misclassification:  38650\n"
     ]
    }
   ],
   "source": [
    "model_gbc = GradientBoostingClassifier()\n",
    "model_gbc.fit(X_train,y_train)\n",
    "y_pred = model_gbc.predict(X_test)\n",
    "accuracy = accuracy_score(y_test,y_pred)\n",
    "confusion_mat = confusion_matrix(y_test, y_pred)\n",
    "classfication_report = classification_report(y_test,y_pred)\n",
    "\n",
    "print(\"The accuracy score: \",accuracy*100)\n",
    "print(\"\\n Confusion matrix:\")\n",
    "print(confusion_mat)\n",
    "print(\"\\n Classification Report:\")\n",
    "print(classfication_report)\n",
    "print(\"\\n Total Cost due to misclassification: \",total_cost(y_test,y_pred))"
   ]
  },
  {
   "cell_type": "code",
   "execution_count": 45,
   "id": "07c7c07b-8e2f-4e65-a7d1-6385380ac9fa",
   "metadata": {},
   "outputs": [
    {
     "name": "stdout",
     "output_type": "stream",
     "text": [
      "The accuracy score:  99.70064148253742\n",
      "\n",
      " Confusion matrix:\n",
      "[[7060   38]\n",
      " [   4 6928]]\n",
      "\n",
      " Classification Report:\n",
      "              precision    recall  f1-score   support\n",
      "\n",
      "           0       1.00      0.99      1.00      7098\n",
      "           1       0.99      1.00      1.00      6932\n",
      "\n",
      "    accuracy                           1.00     14030\n",
      "   macro avg       1.00      1.00      1.00     14030\n",
      "weighted avg       1.00      1.00      1.00     14030\n",
      "\n",
      "\n",
      " Total Cost due to misclassification:  2380\n"
     ]
    }
   ],
   "source": [
    "model_xgboost = XGBClassifier()\n",
    "model_xgboost.fit(X_train,y_train)\n",
    "y_pred = model_xgboost.predict(X_test)\n",
    "accuracy = accuracy_score(y_test,y_pred)\n",
    "confusion_mat = confusion_matrix(y_test, y_pred)\n",
    "classfication_report = classification_report(y_test,y_pred)\n",
    "\n",
    "print(\"The accuracy score: \",accuracy*100)\n",
    "print(\"\\n Confusion matrix:\")\n",
    "print(confusion_mat)\n",
    "print(\"\\n Classification Report:\")\n",
    "print(classfication_report)\n",
    "print(\"\\n Total Cost due to misclassification: \",total_cost(y_test,y_pred))"
   ]
  },
  {
   "cell_type": "code",
   "execution_count": 46,
   "id": "f3aff274-ea2f-47ad-9b9a-dc96a3099b96",
   "metadata": {},
   "outputs": [
    {
     "name": "stdout",
     "output_type": "stream",
     "text": [
      "The accuracy score:  99.40841054882395\n",
      "\n",
      " Confusion matrix\n",
      "[[7027   71]\n",
      " [  12 6920]]\n",
      "\n",
      " Classification Report\n",
      "              precision    recall  f1-score   support\n",
      "\n",
      "           0       1.00      0.99      0.99      7098\n",
      "           1       0.99      1.00      0.99      6932\n",
      "\n",
      "    accuracy                           0.99     14030\n",
      "   macro avg       0.99      0.99      0.99     14030\n",
      "weighted avg       0.99      0.99      0.99     14030\n",
      "\n",
      "\n",
      " Total Cost due to misclassification:  6710\n"
     ]
    }
   ],
   "source": [
    "model_randomforest = RandomForestClassifier()\n",
    "model_randomforest.fit(X_train,y_train)\n",
    "y_pred = model_randomforest.predict(X_test)\n",
    "\n",
    "accuracy = accuracy_score(y_test,y_pred)\n",
    "confusion_mat = confusion_matrix(y_test, y_pred)\n",
    "classfication_report = classification_report(y_test,y_pred)\n",
    "\n",
    "print(\"The accuracy score: \",accuracy*100)\n",
    "print(\"\\n Confusion matrix\")\n",
    "print(confusion_mat)\n",
    "print(\"\\n Classification Report\")\n",
    "print(classfication_report)\n",
    "print(\"\\n Total Cost due to misclassification: \",total_cost(y_test,y_pred))"
   ]
  },
  {
   "cell_type": "markdown",
   "id": "dedcab44-7efb-4c9b-bd80-b91dbdf4b2ab",
   "metadata": {},
   "source": [
    "### "
   ]
  },
  {
   "cell_type": "markdown",
   "id": "2aca5cb2-e666-46bb-9fd2-ca11d78e1fb0",
   "metadata": {},
   "source": [
    "### The Best Model with an accuracy of 99.70% and total cost of 2380 due to misclassification"
   ]
  },
  {
   "cell_type": "markdown",
   "id": "5c2c0333-af77-4aa2-91b6-b5d5cfb1f0fa",
   "metadata": {},
   "source": [
    "### "
   ]
  },
  {
   "cell_type": "markdown",
   "id": "0e91e846-94de-46d2-b547-95d7c9976a1a",
   "metadata": {},
   "source": [
    "### Saving the Best Model"
   ]
  },
  {
   "cell_type": "code",
   "execution_count": 48,
   "id": "b7cbda1e-2f2f-41cd-9bca-686075b20a4f",
   "metadata": {},
   "outputs": [],
   "source": [
    "import joblib"
   ]
  },
  {
   "cell_type": "code",
   "execution_count": 50,
   "id": "bacb882b-6d12-4aa7-b2ac-35670502d792",
   "metadata": {},
   "outputs": [
    {
     "data": {
      "text/plain": [
       "['best_model.joblib']"
      ]
     },
     "execution_count": 50,
     "metadata": {},
     "output_type": "execute_result"
    }
   ],
   "source": [
    "joblib.dump(model_xgboost,\"best_model.joblib\")"
   ]
  }
 ],
 "metadata": {
  "kernelspec": {
   "display_name": "Python 3 (Intel® oneAPI 2023.2)",
   "language": "python",
   "name": "c009-intel_distribution_of_python_3_oneapi-beta05-python"
  },
  "language_info": {
   "codemirror_mode": {
    "name": "ipython",
    "version": 3
   },
   "file_extension": ".py",
   "mimetype": "text/x-python",
   "name": "python",
   "nbconvert_exporter": "python",
   "pygments_lexer": "ipython3",
   "version": "3.9.16"
  }
 },
 "nbformat": 4,
 "nbformat_minor": 5
}

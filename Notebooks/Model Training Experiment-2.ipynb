{
 "cells": [
  {
   "cell_type": "markdown",
   "id": "25ff9fd4-72d4-4113-9427-67c24f1dda2b",
   "metadata": {},
   "source": [
    "## Experiment-2 Simple Imputer with Strategy Median "
   ]
  },
  {
   "cell_type": "code",
   "execution_count": 29,
   "id": "769a88a3-1c28-4103-9bc9-8a45b13cd596",
   "metadata": {},
   "outputs": [
    {
     "name": "stderr",
     "output_type": "stream",
     "text": [
      "Intel(R) Extension for Scikit-learn* enabled (https://github.com/intel/scikit-learn-intelex)\n"
     ]
    }
   ],
   "source": [
    "from sklearnex import patch_sklearn\n",
    "patch_sklearn()\n",
    "from sklearn.impute import SimpleImputer\n",
    "\n",
    "simple_imputer = SimpleImputer(strategy='median')\n",
    "\n",
    "X_simple_impute = simple_imputer.fit_transform(X)"
   ]
  },
  {
   "cell_type": "code",
   "execution_count": 30,
   "id": "d2ed6bc0-1e9f-4806-a2cc-13ed65ea1bc3",
   "metadata": {},
   "outputs": [
    {
     "name": "stderr",
     "output_type": "stream",
     "text": [
      "Intel(R) Extension for Scikit-learn* enabled (https://github.com/intel/scikit-learn-intelex)\n"
     ]
    }
   ],
   "source": [
    "from sklearnex import patch_sklearn\n",
    "patch_sklearn()\n",
    "from sklearn.preprocessing import RobustScaler\n",
    "\n",
    "RobustScaler = RobustScaler()\n",
    "\n",
    "X_scale = RobustScaler.fit_transform(X_simple_impute)"
   ]
  },
  {
   "cell_type": "code",
   "execution_count": 31,
   "id": "efe8750b-e360-49ee-9679-e8334fab0d09",
   "metadata": {},
   "outputs": [],
   "source": [
    "X_resample, y_resample = smt.fit_resample(X_scale, y)"
   ]
  },
  {
   "cell_type": "code",
   "execution_count": 32,
   "id": "c7195465-6ba8-4557-af42-d1ccb126c838",
   "metadata": {},
   "outputs": [],
   "source": [
    "X_train,X_test,y_train,y_test = train_test_split(X_resample,y_resample,test_size=0.2,random_state=42)"
   ]
  },
  {
   "cell_type": "markdown",
   "id": "b68aa1bf",
   "metadata": {},
   "source": [
    "### Training the data on differnent models"
   ]
  },
  {
   "cell_type": "code",
   "execution_count": 33,
   "id": "35843065-0563-4549-b33d-a1d63ec0cbfa",
   "metadata": {},
   "outputs": [
    {
     "name": "stdout",
     "output_type": "stream",
     "text": [
      "The accuracy score:  63.26152090169782\n",
      "\n",
      " Confusion matrix:\n",
      "[[2017 4930]\n",
      " [ 220 6851]]\n",
      "\n",
      " Classification Report:\n",
      "              precision    recall  f1-score   support\n",
      "\n",
      "           0       0.90      0.29      0.44      6947\n",
      "           1       0.58      0.97      0.73      7071\n",
      "\n",
      "    accuracy                           0.63     14018\n",
      "   macro avg       0.74      0.63      0.58     14018\n",
      "weighted avg       0.74      0.63      0.58     14018\n",
      "\n",
      "\n",
      " Total Cost due to misclassification:  159300\n"
     ]
    }
   ],
   "source": [
    "model_logreg = LogisticRegression()\n",
    "model_logreg.fit(X_train,y_train)\n",
    "y_pred = model_logreg.predict(X_test)\n",
    "accuracy = accuracy_score(y_test,y_pred)\n",
    "confusion_mat = confusion_matrix(y_test, y_pred)\n",
    "classfication_report = classification_report(y_test,y_pred)\n",
    "\n",
    "print(\"The accuracy score: \",accuracy*100)\n",
    "print(\"\\n Confusion matrix:\")\n",
    "print(confusion_mat)\n",
    "print(\"\\n Classification Report:\")\n",
    "print(classfication_report)\n",
    "print(\"\\n Total Cost due to misclassification: \",total_cost(y_test,y_pred))"
   ]
  },
  {
   "cell_type": "code",
   "execution_count": 34,
   "id": "13aca44a-e9ba-4a86-bdee-cdbbee252c4f",
   "metadata": {},
   "outputs": [
    {
     "name": "stdout",
     "output_type": "stream",
     "text": [
      "The accuracy score:  97.17506063632473\n",
      "\n",
      " Confusion matrix:\n",
      "[[6654  293]\n",
      " [ 103 6968]]\n",
      "\n",
      " Classification Report:\n",
      "              precision    recall  f1-score   support\n",
      "\n",
      "           0       0.98      0.96      0.97      6947\n",
      "           1       0.96      0.99      0.97      7071\n",
      "\n",
      "    accuracy                           0.97     14018\n",
      "   macro avg       0.97      0.97      0.97     14018\n",
      "weighted avg       0.97      0.97      0.97     14018\n",
      "\n",
      "\n",
      " Total Cost due to misclassification:  54430\n"
     ]
    }
   ],
   "source": [
    "model_knn = KNeighborsClassifier()\n",
    "model_knn.fit(X_train,y_train)\n",
    "y_pred = model_knn.predict(X_test)\n",
    "accuracy = accuracy_score(y_test,y_pred)\n",
    "confusion_mat = confusion_matrix(y_test, y_pred)\n",
    "classfication_report = classification_report(y_test,y_pred)\n",
    "\n",
    "print(\"The accuracy score: \",accuracy*100)\n",
    "print(\"\\n Confusion matrix:\")\n",
    "print(confusion_mat)\n",
    "print(\"\\n Classification Report:\")\n",
    "print(classfication_report)\n",
    "print(\"\\n Total Cost due to misclassification: \",total_cost(y_test,y_pred))"
   ]
  },
  {
   "cell_type": "code",
   "execution_count": 35,
   "id": "03aa8f49-6853-41fb-a65b-bd75600079b0",
   "metadata": {},
   "outputs": [
    {
     "name": "stdout",
     "output_type": "stream",
     "text": [
      "The accuracy score:  98.08817234983593\n",
      "\n",
      " Confusion matrix:\n",
      "[[6772  175]\n",
      " [  93 6978]]\n",
      "\n",
      " Classification Report:\n",
      "              precision    recall  f1-score   support\n",
      "\n",
      "           0       0.99      0.97      0.98      6947\n",
      "           1       0.98      0.99      0.98      7071\n",
      "\n",
      "    accuracy                           0.98     14018\n",
      "   macro avg       0.98      0.98      0.98     14018\n",
      "weighted avg       0.98      0.98      0.98     14018\n",
      "\n",
      "\n",
      " Total Cost due to misclassification:  48250\n"
     ]
    }
   ],
   "source": [
    "model_gbc = GradientBoostingClassifier()\n",
    "model_gbc.fit(X_train,y_train)\n",
    "y_pred = model_gbc.predict(X_test)\n",
    "accuracy = accuracy_score(y_test,y_pred)\n",
    "confusion_mat = confusion_matrix(y_test, y_pred)\n",
    "classfication_report = classification_report(y_test,y_pred)\n",
    "\n",
    "print(\"The accuracy score: \",accuracy*100)\n",
    "print(\"\\n Confusion matrix:\")\n",
    "print(confusion_mat)\n",
    "print(\"\\n Classification Report:\")\n",
    "print(classfication_report)\n",
    "print(\"\\n Total Cost due to misclassification: \",total_cost(y_test,y_pred))"
   ]
  },
  {
   "cell_type": "code",
   "execution_count": 36,
   "id": "163930a6-ab87-4375-8f04-7d59bffa62e2",
   "metadata": {},
   "outputs": [
    {
     "name": "stdout",
     "output_type": "stream",
     "text": [
      "The accuracy score:  99.50777571693537\n",
      "\n",
      " Confusion matrix:\n",
      "[[6890   57]\n",
      " [  12 7059]]\n",
      "\n",
      " Classification Report:\n",
      "              precision    recall  f1-score   support\n",
      "\n",
      "           0       1.00      0.99      1.00      6947\n",
      "           1       0.99      1.00      1.00      7071\n",
      "\n",
      "    accuracy                           1.00     14018\n",
      "   macro avg       1.00      1.00      1.00     14018\n",
      "weighted avg       1.00      1.00      1.00     14018\n",
      "\n",
      "\n",
      " Total Cost due to misclassification:  6570\n"
     ]
    }
   ],
   "source": [
    "model_xgboost = XGBClassifier()\n",
    "model_xgboost.fit(X_train,y_train)\n",
    "y_pred = model_xgboost.predict(X_test)\n",
    "accuracy = accuracy_score(y_test,y_pred)\n",
    "confusion_mat = confusion_matrix(y_test, y_pred)\n",
    "classfication_report = classification_report(y_test,y_pred)\n",
    "\n",
    "print(\"The accuracy score: \",accuracy*100)\n",
    "print(\"\\n Confusion matrix:\")\n",
    "print(confusion_mat)\n",
    "print(\"\\n Classification Report:\")\n",
    "print(classfication_report)\n",
    "print(\"\\n Total Cost due to misclassification: \",total_cost(y_test,y_pred))"
   ]
  },
  {
   "cell_type": "code",
   "execution_count": 37,
   "id": "e7004db7-92c3-4f7d-8cbd-624e407532a3",
   "metadata": {},
   "outputs": [
    {
     "name": "stdout",
     "output_type": "stream",
     "text": [
      "The accuracy score:  99.13682408332144\n",
      "\n",
      " Confusion matrix\n",
      "[[6848   99]\n",
      " [  22 7049]]\n",
      "\n",
      " Classification Report\n",
      "              precision    recall  f1-score   support\n",
      "\n",
      "           0       1.00      0.99      0.99      6947\n",
      "           1       0.99      1.00      0.99      7071\n",
      "\n",
      "    accuracy                           0.99     14018\n",
      "   macro avg       0.99      0.99      0.99     14018\n",
      "weighted avg       0.99      0.99      0.99     14018\n",
      "\n",
      "\n",
      " Total Cost due to misclassification:  11990\n"
     ]
    }
   ],
   "source": [
    "model_randomforest = RandomForestClassifier()\n",
    "model_randomforest.fit(X_train,y_train)\n",
    "y_pred = model_randomforest.predict(X_test)\n",
    "\n",
    "accuracy = accuracy_score(y_test,y_pred)\n",
    "confusion_mat = confusion_matrix(y_test, y_pred)\n",
    "classfication_report = classification_report(y_test,y_pred)\n",
    "\n",
    "print(\"The accuracy score: \",accuracy*100)\n",
    "print(\"\\n Confusion matrix\")\n",
    "print(confusion_mat)\n",
    "print(\"\\n Classification Report\")\n",
    "print(classfication_report)\n",
    "print(\"\\n Total Cost due to misclassification: \",total_cost(y_test,y_pred))"
   ]
  }
 ],
 "metadata": {
  "kernelspec": {
   "display_name": "Python 3 (Intel® oneAPI 2023.2)",
   "language": "python",
   "name": "c009-intel_distribution_of_python_3_oneapi-beta05-python"
  },
  "language_info": {
   "codemirror_mode": {
    "name": "ipython",
    "version": 3
   },
   "file_extension": ".py",
   "mimetype": "text/x-python",
   "name": "python",
   "nbconvert_exporter": "python",
   "pygments_lexer": "ipython3",
   "version": "3.9.16"
  }
 },
 "nbformat": 4,
 "nbformat_minor": 5
}

{
 "cells": [
  {
   "cell_type": "markdown",
   "id": "b01da15f-292c-457a-9a2f-44ca397cf114",
   "metadata": {
    "tags": []
   },
   "source": [
    "# <center> Air Pressure System(APS) Sensors Failure Prediction <center>"
   ]
  },
  {
   "cell_type": "code",
   "execution_count": null,
   "id": "6bff8f53-5ee4-4118-8ec0-dd6ed4b18044",
   "metadata": {},
   "outputs": [],
   "source": [
    "import numpy as np\n",
    "import pandas as pd\n",
    "import matplotlib.pyplot as plt\n",
    "import seaborn as sns\n",
    "import pymongo\n",
    "\n",
    "from sklearn.model_selection import train_test_split\n",
    "from sklearn.metrics import accuracy_score, precision_score, recall_score, f1_score,confusion_matrix,classification_report\n",
    "\n",
    "import warnings\n",
    "warnings.filterwarnings('ignore')"
   ]
  },
  {
   "cell_type": "markdown",
   "id": "39725401-56bf-4bd5-a8ec-df3a45070c08",
   "metadata": {},
   "source": [
    "### Reading the Dataset"
   ]
  },
  {
   "cell_type": "code",
   "execution_count": null,
   "id": "82cb6424-1f4f-4b6b-9c29-03a964c31b44",
   "metadata": {},
   "outputs": [],
   "source": [
    "df = pd.read_csv('aps_failure_training_set1.csv',na_values=\"na\")"
   ]
  },
  {
   "cell_type": "code",
   "execution_count": null,
   "id": "0d2a9805-2d81-4324-a292-c510a0045655",
   "metadata": {},
   "outputs": [],
   "source": [
    "df"
   ]
  },
  {
   "cell_type": "code",
   "execution_count": null,
   "id": "696db55a-fc34-4132-883b-b713e942efdd",
   "metadata": {},
   "outputs": [],
   "source": [
    "df.shape"
   ]
  },
  {
   "cell_type": "code",
   "execution_count": null,
   "id": "d1423e73-afda-4a51-afc0-063452e5df65",
   "metadata": {},
   "outputs": [],
   "source": [
    "df['class'].value_counts()"
   ]
  },
  {
   "cell_type": "code",
   "execution_count": null,
   "id": "1e2bd0ef-c7d0-4e39-b564-ef68fbe3b4d2",
   "metadata": {},
   "outputs": [],
   "source": [
    "numeric_features = [feature for feature in df.columns if df[feature].dtype != 'O']\n",
    "categorical_features = [feature for feature in df.columns if df[feature].dtype == 'O']\n",
    "\n",
    "print('We have {} numerical features : {}'.format(len(numeric_features), numeric_features))\n",
    "print('\\nWe have {} categorical features : {}'.format(len(categorical_features), categorical_features))"
   ]
  },
  {
   "cell_type": "markdown",
   "id": "6d08d525-84b7-48fa-a3a5-9150938d1821",
   "metadata": {},
   "source": [
    "### Checking Missing Values"
   ]
  },
  {
   "cell_type": "code",
   "execution_count": null,
   "id": "ade18615-468a-4859-b500-f45db9bbca08",
   "metadata": {},
   "outputs": [],
   "source": [
    "fig, ax = plt.subplots(figsize=(15,5))\n",
    "\n",
    "missing = df.isna().sum().div(df.shape[0]).mul(100).to_frame().sort_values(by=0, ascending = False)\n",
    "\n",
    "ax.bar(missing.index, missing.values.T[0])\n",
    "plt.xticks([])\n",
    "plt.ylabel(\"Percentage missing\")\n",
    "plt.show()"
   ]
  },
  {
   "cell_type": "markdown",
   "id": "5194de6a-bbb8-4f3a-8548-f700e17595b5",
   "metadata": {},
   "source": [
    "### Removing columns having more than 70% missing values"
   ]
  },
  {
   "cell_type": "code",
   "execution_count": null,
   "id": "6aa0d3d3-6fd5-45cb-a4c5-514e37a149d0",
   "metadata": {},
   "outputs": [],
   "source": [
    "dropcols = missing[missing[0]>70]\n",
    "dropcols"
   ]
  },
  {
   "cell_type": "code",
   "execution_count": null,
   "id": "8b85c482-31bc-4990-9ff2-a7cea6aee27d",
   "metadata": {},
   "outputs": [],
   "source": [
    "df.drop(list(dropcols.index), axis=1, inplace=True)"
   ]
  },
  {
   "cell_type": "code",
   "execution_count": null,
   "id": "22740e4e-1750-48b4-adf5-19b7e2ab4c45",
   "metadata": {},
   "outputs": [],
   "source": [
    "df.shape"
   ]
  },
  {
   "cell_type": "markdown",
   "id": "64f48a57-0138-46e5-a437-bf4301a59567",
   "metadata": {},
   "source": [
    "### Check the total percentage of missing values of full dataset after dropping columns with more than 70% of missing values"
   ]
  },
  {
   "cell_type": "code",
   "execution_count": null,
   "id": "feb2604a-c35c-4366-8e61-23b956fa3ac0",
   "metadata": {},
   "outputs": [],
   "source": [
    "missing_values_count= df.isnull().sum()\n",
    "total_cells = np.product(df.shape)\n",
    "total_missing = missing_values_count.sum()\n",
    "\n",
    "# percent of data that is missing\n",
    "print(f\"Percentage of total missing cells in the data {(total_missing/total_cells) * 100}%\")"
   ]
  },
  {
   "cell_type": "code",
   "execution_count": null,
   "id": "ca55c0d1-d04d-4471-be3a-098f357c215d",
   "metadata": {},
   "outputs": [],
   "source": [
    "numeric_features = [feature for feature in df.columns if df[feature].dtype != 'O']\n",
    "\n",
    "plt.figure(figsize=(15, 100))\n",
    "for i, col in enumerate(numeric_features):\n",
    "    plt.subplot(60, 3, i+1)\n",
    "    sns.distplot(x=df[col], color='indianred')\n",
    "    plt.xlabel(col, weight='bold')\n",
    "    plt.tight_layout()"
   ]
  },
  {
   "cell_type": "markdown",
   "id": "a3d05c0d-3917-43eb-82b8-67323b695c26",
   "metadata": {},
   "source": [
    "### Visualization of unique values in Target variable"
   ]
  },
  {
   "cell_type": "code",
   "execution_count": null,
   "id": "76ff39b5-9eec-4222-a1ed-55b481fbe5a1",
   "metadata": {},
   "outputs": [],
   "source": [
    "pos = df[df['class']=='pos'].shape[0]\n",
    "neg = df[df['class']=='neg'].shape[0]\n",
    "print(\"Positive: \" + str(pos) + \", Negative: \" + str(neg))\n",
    "sns.catplot(data=df, x=\"class\", kind=\"count\", palette=\"winter_r\", alpha=.6)\n",
    "plt.show()"
   ]
  },
  {
   "cell_type": "markdown",
   "id": "ecadb854-9f46-4e35-89b6-80a707f8ec68",
   "metadata": {},
   "source": [
    "## Analysis Report"
   ]
  },
  {
   "cell_type": "markdown",
   "id": "608415a5-f37e-463c-84ec-91c6d8ea2ada",
   "metadata": {},
   "source": [
    "- The Target column is highly imbalanced\n",
    "- If the imbalanced data is not treated beforehand, then this will degrade the performance of the classifier model. \n",
    "- Resampling of data can be used to deal with the imbalanced dataset. There are two types of sampling techniques i.e., Oversampling and Undersampling.\n",
    "- SMOTE is one of the oversampling techniques where the synthetic samples are generated for minority class.\n",
    "- With the combination of SMOTE, TOMEK which helps in removing the noise in the data i.e. the similar type of data sample from minority and majority class which may lead to misclassification. So, these two form a TOMEK link and considered to be a noise in the dataset."
   ]
  },
  {
   "cell_type": "code",
   "execution_count": null,
   "id": "0298560d-2f14-4c43-9e63-ae2cf48a24d7",
   "metadata": {},
   "outputs": [],
   "source": [
    "X = df.drop('class', axis=1)\n",
    "y = df['class']"
   ]
  },
  {
   "cell_type": "code",
   "execution_count": null,
   "id": "a9b0c9d9-ede2-4d7b-b085-707212ad94c8",
   "metadata": {},
   "outputs": [],
   "source": [
    "y = y.replace({'pos': 1, 'neg': 0})"
   ]
  }
 ],
 "metadata": {
  "kernelspec": {
   "display_name": "Python 3 (Intel® oneAPI 2023.2)",
   "language": "python",
   "name": "c009-intel_distribution_of_python_3_oneapi-beta05-python"
  },
  "language_info": {
   "codemirror_mode": {
    "name": "ipython",
    "version": 3
   },
   "file_extension": ".py",
   "mimetype": "text/x-python",
   "name": "python",
   "nbconvert_exporter": "python",
   "pygments_lexer": "ipython3",
   "version": "3.9.16"
  }
 },
 "nbformat": 4,
 "nbformat_minor": 5
}
